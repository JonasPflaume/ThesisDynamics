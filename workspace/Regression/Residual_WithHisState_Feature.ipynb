{
 "cells": [
  {
   "cell_type": "code",
   "execution_count": 1,
   "metadata": {},
   "outputs": [],
   "source": [
    "##################### Appendix ######################\n",
    "import sys\n",
    "sys.path.append('..')\n",
    "from regression_utils import read_residual_data\n",
    "import numpy as np\n",
    "import matplotlib.pyplot as plt\n",
    "import glob\n",
    "root = glob.glob('../data/trajectories/*')\n",
    "path = ['../data/test_trajectory/traj17_z.panda.dat']\n",
    "from tqdm import tqdm\n",
    "HORIZON = list(range(1,10)) + list(range(10,20,5)) + list(range(20,60,10))"
   ]
  },
  {
   "cell_type": "code",
   "execution_count": 2,
   "metadata": {},
   "outputs": [
    {
     "data": {
      "text/plain": [
       "[1, 2, 3, 4, 5, 6, 7, 8, 9, 10, 15, 20, 30, 40, 50]"
      ]
     },
     "execution_count": 2,
     "metadata": {},
     "output_type": "execute_result"
    }
   ],
   "source": [
    "HORIZON"
   ]
  },
  {
   "cell_type": "code",
   "execution_count": 3,
   "metadata": {},
   "outputs": [],
   "source": [
    "from regression import CV_RR\n",
    "from sklearn.preprocessing import PolynomialFeatures\n",
    "\n",
    "def feature1(x, FourierOrder=9):\n",
    "    aug = x\n",
    "    poly = PolynomialFeatures(1)\n",
    "    aug = poly.fit_transform(aug)\n",
    "    for k in range(1, FourierOrder):\n",
    "        aug = np.concatenate([aug, np.sin(k*x)], axis=1)\n",
    "        aug = np.concatenate([aug, np.cos(k*x)], axis=1)\n",
    "    return aug"
   ]
  },
  {
   "cell_type": "code",
   "execution_count": 4,
   "metadata": {},
   "outputs": [],
   "source": [
    "horizon = 5\n",
    "x, xref, xH, xHref, error, errorH = read_residual_data(root, horizon) # errorH start from horizon"
   ]
  },
  {
   "cell_type": "code",
   "execution_count": 5,
   "metadata": {},
   "outputs": [],
   "source": [
    "labd = np.logspace(-2,2,10)\n",
    "RR = CV_RR(labd)"
   ]
  },
  {
   "cell_type": "markdown",
   "metadata": {},
   "source": [
    "### test set"
   ]
  },
  {
   "cell_type": "code",
   "execution_count": 6,
   "metadata": {},
   "outputs": [],
   "source": [
    "x_test, xref_test, xH_test, xHref_test, error_test, errorH_test = read_residual_data(path, horizon)"
   ]
  },
  {
   "cell_type": "markdown",
   "metadata": {},
   "source": [
    "### plot the order of fourier order"
   ]
  },
  {
   "cell_type": "code",
   "execution_count": 7,
   "metadata": {},
   "outputs": [
    {
     "name": "stderr",
     "output_type": "stream",
     "text": [
      "100%|██████████| 10/10 [00:01<00:00,  9.91it/s]\n",
      " 10%|█         | 1/10 [00:00<00:00,  9.22it/s]"
     ]
    },
    {
     "name": "stdout",
     "output_type": "stream",
     "text": [
      "Mean absolute error [Order 0]: 1.469\n"
     ]
    },
    {
     "name": "stderr",
     "output_type": "stream",
     "text": [
      "100%|██████████| 10/10 [00:01<00:00,  9.44it/s]\n"
     ]
    },
    {
     "name": "stdout",
     "output_type": "stream",
     "text": [
      "Mean absolute error [Order 1]: 1.469\n"
     ]
    },
    {
     "name": "stderr",
     "output_type": "stream",
     "text": [
      "100%|██████████| 10/10 [00:02<00:00,  4.57it/s]\n"
     ]
    },
    {
     "name": "stdout",
     "output_type": "stream",
     "text": [
      "Mean absolute error [Order 2]: 1.475\n"
     ]
    },
    {
     "name": "stderr",
     "output_type": "stream",
     "text": [
      "100%|██████████| 10/10 [00:03<00:00,  2.51it/s]\n"
     ]
    },
    {
     "name": "stdout",
     "output_type": "stream",
     "text": [
      "Mean absolute error [Order 3]: 1.476\n"
     ]
    },
    {
     "name": "stderr",
     "output_type": "stream",
     "text": [
      "  0%|          | 0/10 [00:00<?, ?it/s]\n"
     ]
    },
    {
     "ename": "KeyboardInterrupt",
     "evalue": "",
     "output_type": "error",
     "traceback": [
      "\u001b[0;31m---------------------------------------------------------------------------\u001b[0m",
      "\u001b[0;31mKeyboardInterrupt\u001b[0m                         Traceback (most recent call last)",
      "\u001b[0;32m<ipython-input-7-b083238fda15>\u001b[0m in \u001b[0;36m<module>\u001b[0;34m\u001b[0m\n\u001b[1;32m      2\u001b[0m \u001b[0mMAE_L\u001b[0m \u001b[0;34m=\u001b[0m \u001b[0;34m[\u001b[0m\u001b[0;34m]\u001b[0m\u001b[0;34m\u001b[0m\u001b[0;34m\u001b[0m\u001b[0m\n\u001b[1;32m      3\u001b[0m \u001b[0;32mfor\u001b[0m \u001b[0morder\u001b[0m \u001b[0;32min\u001b[0m \u001b[0mORDER\u001b[0m\u001b[0;34m:\u001b[0m\u001b[0;34m\u001b[0m\u001b[0;34m\u001b[0m\u001b[0m\n\u001b[0;32m----> 4\u001b[0;31m     \u001b[0mRR\u001b[0m\u001b[0;34m.\u001b[0m\u001b[0mfit\u001b[0m\u001b[0;34m(\u001b[0m\u001b[0mfeature1\u001b[0m\u001b[0;34m(\u001b[0m\u001b[0mx\u001b[0m\u001b[0;34m-\u001b[0m\u001b[0mxref\u001b[0m\u001b[0;34m,\u001b[0m \u001b[0morder\u001b[0m\u001b[0;34m)\u001b[0m\u001b[0;34m,\u001b[0m \u001b[0merror\u001b[0m\u001b[0;34m,\u001b[0m \u001b[0;36m4\u001b[0m\u001b[0;34m,\u001b[0m \u001b[0mverbose\u001b[0m\u001b[0;34m=\u001b[0m\u001b[0;32mFalse\u001b[0m\u001b[0;34m)\u001b[0m\u001b[0;34m\u001b[0m\u001b[0;34m\u001b[0m\u001b[0m\n\u001b[0m\u001b[1;32m      5\u001b[0m     \u001b[0mres_pred_RR\u001b[0m \u001b[0;34m=\u001b[0m \u001b[0mRR\u001b[0m\u001b[0;34m.\u001b[0m\u001b[0mpredict\u001b[0m\u001b[0;34m(\u001b[0m\u001b[0mfeature1\u001b[0m\u001b[0;34m(\u001b[0m\u001b[0mx_test\u001b[0m\u001b[0;34m-\u001b[0m\u001b[0mxref_test\u001b[0m\u001b[0;34m,\u001b[0m \u001b[0morder\u001b[0m\u001b[0;34m)\u001b[0m\u001b[0;34m,\u001b[0m \u001b[0mRR\u001b[0m\u001b[0;34m.\u001b[0m\u001b[0mbeta\u001b[0m\u001b[0;34m)\u001b[0m\u001b[0;34m\u001b[0m\u001b[0;34m\u001b[0m\u001b[0m\n\u001b[1;32m      6\u001b[0m     \u001b[0mMAE\u001b[0m \u001b[0;34m=\u001b[0m \u001b[0mnp\u001b[0m\u001b[0;34m.\u001b[0m\u001b[0mabs\u001b[0m\u001b[0;34m(\u001b[0m\u001b[0;34m(\u001b[0m\u001b[0merror_test\u001b[0m \u001b[0;34m-\u001b[0m \u001b[0mres_pred_RR\u001b[0m\u001b[0;34m)\u001b[0m\u001b[0;34m)\u001b[0m\u001b[0;34m.\u001b[0m\u001b[0msum\u001b[0m\u001b[0;34m(\u001b[0m\u001b[0;34m)\u001b[0m \u001b[0;34m/\u001b[0m \u001b[0mlen\u001b[0m\u001b[0;34m(\u001b[0m\u001b[0merror_test\u001b[0m\u001b[0;34m)\u001b[0m\u001b[0;34m\u001b[0m\u001b[0;34m\u001b[0m\u001b[0m\n",
      "\u001b[0;32m~/git/workspace/Regression/regression.py\u001b[0m in \u001b[0;36mfit\u001b[0;34m(self, Xtrain, Ytrain, K, verbose)\u001b[0m\n\u001b[1;32m     44\u001b[0m                 \u001b[0mYtrain_vali\u001b[0m \u001b[0;34m=\u001b[0m \u001b[0mYtrain\u001b[0m\u001b[0;34m[\u001b[0m\u001b[0mk\u001b[0m\u001b[0;34m*\u001b[0m\u001b[0mfold_len\u001b[0m\u001b[0;34m:\u001b[0m\u001b[0;34m(\u001b[0m\u001b[0mk\u001b[0m\u001b[0;34m+\u001b[0m\u001b[0;36m1\u001b[0m\u001b[0;34m)\u001b[0m\u001b[0;34m*\u001b[0m\u001b[0mfold_len\u001b[0m\u001b[0;34m,\u001b[0m \u001b[0;34m:\u001b[0m\u001b[0;34m]\u001b[0m\u001b[0;34m\u001b[0m\u001b[0;34m\u001b[0m\u001b[0m\n\u001b[1;32m     45\u001b[0m \u001b[0;34m\u001b[0m\u001b[0m\n\u001b[0;32m---> 46\u001b[0;31m                 \u001b[0mbeta_k\u001b[0m \u001b[0;34m=\u001b[0m \u001b[0mself\u001b[0m\u001b[0;34m.\u001b[0m\u001b[0mget_beta\u001b[0m\u001b[0;34m(\u001b[0m\u001b[0mXtrain_k\u001b[0m\u001b[0;34m,\u001b[0m \u001b[0mYtrain_k\u001b[0m\u001b[0;34m,\u001b[0m \u001b[0mlabd\u001b[0m\u001b[0;34m)\u001b[0m\u001b[0;34m\u001b[0m\u001b[0;34m\u001b[0m\u001b[0m\n\u001b[0m\u001b[1;32m     47\u001b[0m                 \u001b[0;31m# loss calculation\u001b[0m\u001b[0;34m\u001b[0m\u001b[0;34m\u001b[0m\u001b[0;34m\u001b[0m\u001b[0m\n\u001b[1;32m     48\u001b[0m                 \u001b[0mpred_k\u001b[0m \u001b[0;34m=\u001b[0m \u001b[0mself\u001b[0m\u001b[0;34m.\u001b[0m\u001b[0mpredict\u001b[0m\u001b[0;34m(\u001b[0m\u001b[0mXtrain_vali\u001b[0m\u001b[0;34m,\u001b[0m \u001b[0mbeta_k\u001b[0m\u001b[0;34m)\u001b[0m\u001b[0;34m\u001b[0m\u001b[0;34m\u001b[0m\u001b[0m\n",
      "\u001b[0;32m~/git/workspace/Regression/regression.py\u001b[0m in \u001b[0;36mget_beta\u001b[0;34m(self, Xtrain_k, Ytrain_k, labd)\u001b[0m\n\u001b[1;32m     72\u001b[0m         \u001b[0mI\u001b[0m \u001b[0;34m=\u001b[0m \u001b[0mnp\u001b[0m\u001b[0;34m.\u001b[0m\u001b[0meye\u001b[0m\u001b[0;34m(\u001b[0m\u001b[0mXtrain_k\u001b[0m\u001b[0;34m.\u001b[0m\u001b[0mshape\u001b[0m\u001b[0;34m[\u001b[0m\u001b[0;36m1\u001b[0m\u001b[0;34m]\u001b[0m\u001b[0;34m)\u001b[0m\u001b[0;34m\u001b[0m\u001b[0;34m\u001b[0m\u001b[0m\n\u001b[1;32m     73\u001b[0m         \u001b[0mI\u001b[0m\u001b[0;34m[\u001b[0m\u001b[0;36m0\u001b[0m\u001b[0;34m,\u001b[0m\u001b[0;36m0\u001b[0m\u001b[0;34m]\u001b[0m \u001b[0;34m=\u001b[0m \u001b[0;36m0\u001b[0m\u001b[0;34m\u001b[0m\u001b[0;34m\u001b[0m\u001b[0m\n\u001b[0;32m---> 74\u001b[0;31m         \u001b[0;32mreturn\u001b[0m \u001b[0mnp\u001b[0m\u001b[0;34m.\u001b[0m\u001b[0mlinalg\u001b[0m\u001b[0;34m.\u001b[0m\u001b[0msolve\u001b[0m\u001b[0;34m(\u001b[0m\u001b[0mXtrain_k\u001b[0m\u001b[0;34m.\u001b[0m\u001b[0mT\u001b[0m \u001b[0;34m@\u001b[0m \u001b[0mXtrain_k\u001b[0m \u001b[0;34m+\u001b[0m \u001b[0mI\u001b[0m\u001b[0;34m*\u001b[0m\u001b[0mlabd\u001b[0m\u001b[0;34m,\u001b[0m \u001b[0mXtrain_k\u001b[0m\u001b[0;34m.\u001b[0m\u001b[0mT\u001b[0m \u001b[0;34m@\u001b[0m \u001b[0mYtrain_k\u001b[0m\u001b[0;34m)\u001b[0m\u001b[0;34m\u001b[0m\u001b[0;34m\u001b[0m\u001b[0m\n\u001b[0m\u001b[1;32m     75\u001b[0m \u001b[0;34m\u001b[0m\u001b[0m\n\u001b[1;32m     76\u001b[0m     \u001b[0;32mdef\u001b[0m \u001b[0mpredict\u001b[0m\u001b[0;34m(\u001b[0m\u001b[0mself\u001b[0m\u001b[0;34m,\u001b[0m \u001b[0mX\u001b[0m\u001b[0;34m,\u001b[0m \u001b[0mbeta\u001b[0m\u001b[0;34m)\u001b[0m\u001b[0;34m:\u001b[0m\u001b[0;34m\u001b[0m\u001b[0;34m\u001b[0m\u001b[0m\n",
      "\u001b[0;31mKeyboardInterrupt\u001b[0m: "
     ]
    }
   ],
   "source": [
    "ORDER = np.arange(20)\n",
    "MAE_L = []\n",
    "for order in ORDER:\n",
    "    RR.fit(feature1(x-xref, order), error, 4, verbose=False)\n",
    "    res_pred_RR = RR.predict(feature1(x_test-xref_test, order), RR.beta)\n",
    "    MAE = np.abs((error_test - res_pred_RR)).sum() / len(error_test)\n",
    "    MAE_L.append(MAE)\n",
    "    print(\"Mean absolute error [Order {0}]: {1:.3f}\".format(order, MAE))"
   ]
  },
  {
   "cell_type": "code",
   "execution_count": 8,
   "metadata": {},
   "outputs": [
    {
     "ename": "ValueError",
     "evalue": "x and y must have same first dimension, but have shapes (20,) and (4,)",
     "output_type": "error",
     "traceback": [
      "\u001b[0;31m---------------------------------------------------------------------------\u001b[0m",
      "\u001b[0;31mValueError\u001b[0m                                Traceback (most recent call last)",
      "\u001b[0;32m<ipython-input-8-b5a73eab0435>\u001b[0m in \u001b[0;36m<module>\u001b[0;34m\u001b[0m\n\u001b[1;32m      1\u001b[0m \u001b[0;32mimport\u001b[0m \u001b[0mmatplotlib\u001b[0m\u001b[0;34m.\u001b[0m\u001b[0mpyplot\u001b[0m \u001b[0;32mas\u001b[0m \u001b[0mplt\u001b[0m\u001b[0;34m\u001b[0m\u001b[0;34m\u001b[0m\u001b[0m\n\u001b[0;32m----> 2\u001b[0;31m \u001b[0mplt\u001b[0m\u001b[0;34m.\u001b[0m\u001b[0mplot\u001b[0m\u001b[0;34m(\u001b[0m\u001b[0mORDER\u001b[0m\u001b[0;34m,\u001b[0m \u001b[0mMAE_L\u001b[0m\u001b[0;34m)\u001b[0m\u001b[0;34m\u001b[0m\u001b[0;34m\u001b[0m\u001b[0m\n\u001b[0m\u001b[1;32m      3\u001b[0m \u001b[0mplt\u001b[0m\u001b[0;34m.\u001b[0m\u001b[0mgrid\u001b[0m\u001b[0;34m(\u001b[0m\u001b[0;34m)\u001b[0m\u001b[0;34m\u001b[0m\u001b[0;34m\u001b[0m\u001b[0m\n\u001b[1;32m      4\u001b[0m \u001b[0mplt\u001b[0m\u001b[0;34m.\u001b[0m\u001b[0mshow\u001b[0m\u001b[0;34m(\u001b[0m\u001b[0;34m)\u001b[0m\u001b[0;34m\u001b[0m\u001b[0;34m\u001b[0m\u001b[0m\n",
      "\u001b[0;32m~/.local/lib/python3.6/site-packages/matplotlib/pyplot.py\u001b[0m in \u001b[0;36mplot\u001b[0;34m(scalex, scaley, data, *args, **kwargs)\u001b[0m\n\u001b[1;32m   2840\u001b[0m     return gca().plot(\n\u001b[1;32m   2841\u001b[0m         \u001b[0;34m*\u001b[0m\u001b[0margs\u001b[0m\u001b[0;34m,\u001b[0m \u001b[0mscalex\u001b[0m\u001b[0;34m=\u001b[0m\u001b[0mscalex\u001b[0m\u001b[0;34m,\u001b[0m \u001b[0mscaley\u001b[0m\u001b[0;34m=\u001b[0m\u001b[0mscaley\u001b[0m\u001b[0;34m,\u001b[0m\u001b[0;34m\u001b[0m\u001b[0;34m\u001b[0m\u001b[0m\n\u001b[0;32m-> 2842\u001b[0;31m         **({\"data\": data} if data is not None else {}), **kwargs)\n\u001b[0m\u001b[1;32m   2843\u001b[0m \u001b[0;34m\u001b[0m\u001b[0m\n\u001b[1;32m   2844\u001b[0m \u001b[0;34m\u001b[0m\u001b[0m\n",
      "\u001b[0;32m~/.local/lib/python3.6/site-packages/matplotlib/axes/_axes.py\u001b[0m in \u001b[0;36mplot\u001b[0;34m(self, scalex, scaley, data, *args, **kwargs)\u001b[0m\n\u001b[1;32m   1741\u001b[0m         \"\"\"\n\u001b[1;32m   1742\u001b[0m         \u001b[0mkwargs\u001b[0m \u001b[0;34m=\u001b[0m \u001b[0mcbook\u001b[0m\u001b[0;34m.\u001b[0m\u001b[0mnormalize_kwargs\u001b[0m\u001b[0;34m(\u001b[0m\u001b[0mkwargs\u001b[0m\u001b[0;34m,\u001b[0m \u001b[0mmlines\u001b[0m\u001b[0;34m.\u001b[0m\u001b[0mLine2D\u001b[0m\u001b[0;34m)\u001b[0m\u001b[0;34m\u001b[0m\u001b[0;34m\u001b[0m\u001b[0m\n\u001b[0;32m-> 1743\u001b[0;31m         \u001b[0mlines\u001b[0m \u001b[0;34m=\u001b[0m \u001b[0;34m[\u001b[0m\u001b[0;34m*\u001b[0m\u001b[0mself\u001b[0m\u001b[0;34m.\u001b[0m\u001b[0m_get_lines\u001b[0m\u001b[0;34m(\u001b[0m\u001b[0;34m*\u001b[0m\u001b[0margs\u001b[0m\u001b[0;34m,\u001b[0m \u001b[0mdata\u001b[0m\u001b[0;34m=\u001b[0m\u001b[0mdata\u001b[0m\u001b[0;34m,\u001b[0m \u001b[0;34m**\u001b[0m\u001b[0mkwargs\u001b[0m\u001b[0;34m)\u001b[0m\u001b[0;34m]\u001b[0m\u001b[0;34m\u001b[0m\u001b[0;34m\u001b[0m\u001b[0m\n\u001b[0m\u001b[1;32m   1744\u001b[0m         \u001b[0;32mfor\u001b[0m \u001b[0mline\u001b[0m \u001b[0;32min\u001b[0m \u001b[0mlines\u001b[0m\u001b[0;34m:\u001b[0m\u001b[0;34m\u001b[0m\u001b[0;34m\u001b[0m\u001b[0m\n\u001b[1;32m   1745\u001b[0m             \u001b[0mself\u001b[0m\u001b[0;34m.\u001b[0m\u001b[0madd_line\u001b[0m\u001b[0;34m(\u001b[0m\u001b[0mline\u001b[0m\u001b[0;34m)\u001b[0m\u001b[0;34m\u001b[0m\u001b[0;34m\u001b[0m\u001b[0m\n",
      "\u001b[0;32m~/.local/lib/python3.6/site-packages/matplotlib/axes/_base.py\u001b[0m in \u001b[0;36m__call__\u001b[0;34m(self, data, *args, **kwargs)\u001b[0m\n\u001b[1;32m    271\u001b[0m                 \u001b[0mthis\u001b[0m \u001b[0;34m+=\u001b[0m \u001b[0margs\u001b[0m\u001b[0;34m[\u001b[0m\u001b[0;36m0\u001b[0m\u001b[0;34m]\u001b[0m\u001b[0;34m,\u001b[0m\u001b[0;34m\u001b[0m\u001b[0;34m\u001b[0m\u001b[0m\n\u001b[1;32m    272\u001b[0m                 \u001b[0margs\u001b[0m \u001b[0;34m=\u001b[0m \u001b[0margs\u001b[0m\u001b[0;34m[\u001b[0m\u001b[0;36m1\u001b[0m\u001b[0;34m:\u001b[0m\u001b[0;34m]\u001b[0m\u001b[0;34m\u001b[0m\u001b[0;34m\u001b[0m\u001b[0m\n\u001b[0;32m--> 273\u001b[0;31m             \u001b[0;32myield\u001b[0m \u001b[0;32mfrom\u001b[0m \u001b[0mself\u001b[0m\u001b[0;34m.\u001b[0m\u001b[0m_plot_args\u001b[0m\u001b[0;34m(\u001b[0m\u001b[0mthis\u001b[0m\u001b[0;34m,\u001b[0m \u001b[0mkwargs\u001b[0m\u001b[0;34m)\u001b[0m\u001b[0;34m\u001b[0m\u001b[0;34m\u001b[0m\u001b[0m\n\u001b[0m\u001b[1;32m    274\u001b[0m \u001b[0;34m\u001b[0m\u001b[0m\n\u001b[1;32m    275\u001b[0m     \u001b[0;32mdef\u001b[0m \u001b[0mget_next_color\u001b[0m\u001b[0;34m(\u001b[0m\u001b[0mself\u001b[0m\u001b[0;34m)\u001b[0m\u001b[0;34m:\u001b[0m\u001b[0;34m\u001b[0m\u001b[0;34m\u001b[0m\u001b[0m\n",
      "\u001b[0;32m~/.local/lib/python3.6/site-packages/matplotlib/axes/_base.py\u001b[0m in \u001b[0;36m_plot_args\u001b[0;34m(self, tup, kwargs)\u001b[0m\n\u001b[1;32m    397\u001b[0m \u001b[0;34m\u001b[0m\u001b[0m\n\u001b[1;32m    398\u001b[0m         \u001b[0;32mif\u001b[0m \u001b[0mx\u001b[0m\u001b[0;34m.\u001b[0m\u001b[0mshape\u001b[0m\u001b[0;34m[\u001b[0m\u001b[0;36m0\u001b[0m\u001b[0;34m]\u001b[0m \u001b[0;34m!=\u001b[0m \u001b[0my\u001b[0m\u001b[0;34m.\u001b[0m\u001b[0mshape\u001b[0m\u001b[0;34m[\u001b[0m\u001b[0;36m0\u001b[0m\u001b[0;34m]\u001b[0m\u001b[0;34m:\u001b[0m\u001b[0;34m\u001b[0m\u001b[0;34m\u001b[0m\u001b[0m\n\u001b[0;32m--> 399\u001b[0;31m             raise ValueError(f\"x and y must have same first dimension, but \"\n\u001b[0m\u001b[1;32m    400\u001b[0m                              f\"have shapes {x.shape} and {y.shape}\")\n\u001b[1;32m    401\u001b[0m         \u001b[0;32mif\u001b[0m \u001b[0mx\u001b[0m\u001b[0;34m.\u001b[0m\u001b[0mndim\u001b[0m \u001b[0;34m>\u001b[0m \u001b[0;36m2\u001b[0m \u001b[0;32mor\u001b[0m \u001b[0my\u001b[0m\u001b[0;34m.\u001b[0m\u001b[0mndim\u001b[0m \u001b[0;34m>\u001b[0m \u001b[0;36m2\u001b[0m\u001b[0;34m:\u001b[0m\u001b[0;34m\u001b[0m\u001b[0;34m\u001b[0m\u001b[0m\n",
      "\u001b[0;31mValueError\u001b[0m: x and y must have same first dimension, but have shapes (20,) and (4,)"
     ]
    },
    {
     "data": {
      "image/png": "[encoded data removed]",
      "text/plain": [
       "<Figure size 432x288 with 1 Axes>"
      ]
     },
     "metadata": {
      "needs_background": "light"
     },
     "output_type": "display_data"
    }
   ],
   "source": [
    "import matplotlib.pyplot as plt\n",
    "plt.plot(ORDER, MAE_L)\n",
    "plt.grid()\n",
    "plt.show()"
   ]
  },
  {
   "cell_type": "code",
   "execution_count": 9,
   "metadata": {},
   "outputs": [
    {
     "ename": "NameError",
     "evalue": "name 'best_order' is not defined",
     "output_type": "error",
     "traceback": [
      "\u001b[0;31m---------------------------------------------------------------------------\u001b[0m",
      "\u001b[0;31mNameError\u001b[0m                                 Traceback (most recent call last)",
      "\u001b[0;32m<ipython-input-9-d3215803e4d8>\u001b[0m in \u001b[0;36m<module>\u001b[0;34m\u001b[0m\n\u001b[0;32m----> 1\u001b[0;31m \u001b[0mres_pred_RR\u001b[0m \u001b[0;34m=\u001b[0m \u001b[0mRR\u001b[0m\u001b[0;34m.\u001b[0m\u001b[0mpredict\u001b[0m\u001b[0;34m(\u001b[0m\u001b[0mfeature1\u001b[0m\u001b[0;34m(\u001b[0m\u001b[0mx_test\u001b[0m\u001b[0;34m-\u001b[0m\u001b[0mxref_test\u001b[0m\u001b[0;34m,\u001b[0m \u001b[0mbest_order\u001b[0m\u001b[0;34m)\u001b[0m\u001b[0;34m,\u001b[0m \u001b[0mRR\u001b[0m\u001b[0;34m.\u001b[0m\u001b[0mbeta\u001b[0m\u001b[0;34m)\u001b[0m\u001b[0;34m\u001b[0m\u001b[0;34m\u001b[0m\u001b[0m\n\u001b[0m",
      "\u001b[0;31mNameError\u001b[0m: name 'best_order' is not defined"
     ]
    }
   ],
   "source": [
    "res_pred_RR = RR.predict(feature1(x_test-xref_test, best_order), RR.beta)"
   ]
  },
  {
   "cell_type": "code",
   "execution_count": null,
   "metadata": {},
   "outputs": [],
   "source": [
    "MAE = ((error_test - res_pred_RR)**2).sum() / len(error_test)\n",
    "print(\"Mean square error [RR]: {:.2f}\".format(MAE))"
   ]
  },
  {
   "cell_type": "markdown",
   "metadata": {},
   "source": [
    "- Conclusion: the linear residual model is already the best!"
   ]
  },
  {
   "cell_type": "code",
   "execution_count": null,
   "metadata": {},
   "outputs": [],
   "source": [
    "best_order = 0"
   ]
  },
  {
   "cell_type": "code",
   "execution_count": null,
   "metadata": {},
   "outputs": [],
   "source": [
    "RR.fit(feature1(x-xref, best_order), error, 4)"
   ]
  },
  {
   "cell_type": "markdown",
   "metadata": {},
   "source": [
    "## explore the impact of tracking error horizon"
   ]
  },
  {
   "cell_type": "code",
   "execution_count": 10,
   "metadata": {},
   "outputs": [],
   "source": [
    "labd = np.logspace(-2,2,6)\n",
    "RR_H = CV_RR(labd)"
   ]
  },
  {
   "cell_type": "code",
   "execution_count": 11,
   "metadata": {},
   "outputs": [
    {
     "name": "stderr",
     "output_type": "stream",
     "text": [
      "  0%|          | 0/15 [00:00<?, ?it/s]\n",
      "  0%|          | 0/6 [00:00<?, ?it/s]\u001b[A\n",
      " 17%|█▋        | 1/6 [00:00<00:00,  8.89it/s]\u001b[A\n",
      " 33%|███▎      | 2/6 [00:00<00:00,  8.00it/s]\u001b[A\n",
      " 50%|█████     | 3/6 [00:00<00:00,  8.63it/s]\u001b[A\n",
      " 67%|██████▋   | 4/6 [00:00<00:00,  9.08it/s]\u001b[A\n",
      "100%|██████████| 6/6 [00:00<00:00,  9.33it/s]\u001b[A\n",
      "  7%|▋         | 1/15 [00:12<02:52, 12.30s/it]"
     ]
    },
    {
     "name": "stdout",
     "output_type": "stream",
     "text": [
      "Mean absolute error [horizon 1]: 1.588\n"
     ]
    },
    {
     "name": "stderr",
     "output_type": "stream",
     "text": [
      "\n",
      "  0%|          | 0/6 [00:00<?, ?it/s]\u001b[A\n",
      " 17%|█▋        | 1/6 [00:00<00:00,  7.00it/s]\u001b[A\n",
      " 33%|███▎      | 2/6 [00:00<00:00,  6.32it/s]\u001b[A\n",
      " 50%|█████     | 3/6 [00:00<00:00,  6.28it/s]\u001b[A\n",
      " 67%|██████▋   | 4/6 [00:00<00:00,  6.01it/s]\u001b[A\n",
      " 83%|████████▎ | 5/6 [00:00<00:00,  6.05it/s]\u001b[A\n",
      "100%|██████████| 6/6 [00:00<00:00,  6.16it/s]\u001b[A\n",
      " 13%|█▎        | 2/15 [00:25<02:46, 12.80s/it]"
     ]
    },
    {
     "name": "stdout",
     "output_type": "stream",
     "text": [
      "Mean absolute error [horizon 2]: 1.602\n"
     ]
    },
    {
     "name": "stderr",
     "output_type": "stream",
     "text": [
      "\n",
      "  0%|          | 0/6 [00:00<?, ?it/s]\u001b[A\n",
      " 17%|█▋        | 1/6 [00:00<00:00,  5.19it/s]\u001b[A\n",
      " 33%|███▎      | 2/6 [00:00<00:00,  4.82it/s]\u001b[A\n",
      " 50%|█████     | 3/6 [00:00<00:00,  4.93it/s]\u001b[A\n",
      " 67%|██████▋   | 4/6 [00:00<00:00,  4.50it/s]\u001b[A\n",
      " 83%|████████▎ | 5/6 [00:01<00:00,  4.35it/s]\u001b[A\n",
      "100%|██████████| 6/6 [00:01<00:00,  4.49it/s]\u001b[A\n",
      " 20%|██        | 3/15 [00:38<02:37, 13.12s/it]"
     ]
    },
    {
     "name": "stdout",
     "output_type": "stream",
     "text": [
      "Mean absolute error [horizon 3]: 1.614\n"
     ]
    },
    {
     "name": "stderr",
     "output_type": "stream",
     "text": [
      "\n",
      "  0%|          | 0/6 [00:00<?, ?it/s]\u001b[A\n",
      " 17%|█▋        | 1/6 [00:00<00:01,  3.92it/s]\u001b[A\n",
      " 33%|███▎      | 2/6 [00:00<00:01,  3.91it/s]\u001b[A\n",
      " 50%|█████     | 3/6 [00:00<00:00,  3.84it/s]\u001b[A\n",
      " 67%|██████▋   | 4/6 [00:01<00:00,  2.38it/s]\u001b[A\n",
      " 83%|████████▎ | 5/6 [00:01<00:00,  2.65it/s]\u001b[A\n",
      "100%|██████████| 6/6 [00:02<00:00,  2.98it/s]\u001b[A\n",
      " 27%|██▋       | 4/15 [00:53<02:28, 13.52s/it]"
     ]
    },
    {
     "name": "stdout",
     "output_type": "stream",
     "text": [
      "Mean absolute error [horizon 4]: 1.572\n"
     ]
    },
    {
     "name": "stderr",
     "output_type": "stream",
     "text": [
      "\n",
      "  0%|          | 0/6 [00:00<?, ?it/s]\u001b[A\n",
      " 17%|█▋        | 1/6 [00:00<00:02,  2.03it/s]\u001b[A\n",
      " 33%|███▎      | 2/6 [00:00<00:01,  2.21it/s]\u001b[A\n",
      " 50%|█████     | 3/6 [00:01<00:01,  2.37it/s]\u001b[A\n",
      " 67%|██████▋   | 4/6 [00:01<00:00,  2.56it/s]\u001b[A\n",
      " 83%|████████▎ | 5/6 [00:01<00:00,  2.65it/s]\u001b[A\n",
      "100%|██████████| 6/6 [00:02<00:00,  2.38it/s]\u001b[A\n",
      " 33%|███▎      | 5/15 [01:07<02:19, 13.93s/it]"
     ]
    },
    {
     "name": "stdout",
     "output_type": "stream",
     "text": [
      "Mean absolute error [horizon 5]: 1.579\n"
     ]
    },
    {
     "name": "stderr",
     "output_type": "stream",
     "text": [
      "\n",
      "  0%|          | 0/6 [00:00<?, ?it/s]\u001b[A\n",
      " 17%|█▋        | 1/6 [00:00<00:02,  2.18it/s]\u001b[A\n",
      " 33%|███▎      | 2/6 [00:00<00:01,  2.03it/s]\u001b[A\n",
      " 50%|█████     | 3/6 [00:01<00:01,  1.92it/s]\u001b[A\n",
      " 67%|██████▋   | 4/6 [00:01<00:00,  2.11it/s]\u001b[A\n",
      " 83%|████████▎ | 5/6 [00:02<00:00,  1.92it/s]\u001b[A\n",
      "100%|██████████| 6/6 [00:03<00:00,  1.97it/s]\u001b[A\n",
      " 40%|████      | 6/15 [01:23<02:10, 14.46s/it]"
     ]
    },
    {
     "name": "stdout",
     "output_type": "stream",
     "text": [
      "Mean absolute error [horizon 6]: 1.584\n"
     ]
    },
    {
     "name": "stderr",
     "output_type": "stream",
     "text": [
      "\n",
      "  0%|          | 0/6 [00:00<?, ?it/s]\u001b[A\n",
      " 17%|█▋        | 1/6 [00:00<00:03,  1.26it/s]\u001b[A\n",
      " 33%|███▎      | 2/6 [00:01<00:02,  1.65it/s]\u001b[A\n",
      " 50%|█████     | 3/6 [00:01<00:01,  1.80it/s]\u001b[A\n",
      " 67%|██████▋   | 4/6 [00:02<00:01,  1.78it/s]\u001b[A\n",
      " 83%|████████▎ | 5/6 [00:02<00:00,  1.86it/s]\u001b[A\n",
      "100%|██████████| 6/6 [00:03<00:00,  1.68it/s]\u001b[A\n",
      " 47%|████▋     | 7/15 [01:39<02:00, 15.03s/it]"
     ]
    },
    {
     "name": "stdout",
     "output_type": "stream",
     "text": [
      "Mean absolute error [horizon 7]: 1.588\n"
     ]
    },
    {
     "name": "stderr",
     "output_type": "stream",
     "text": [
      "\n",
      "  0%|          | 0/6 [00:00<?, ?it/s]\u001b[A\n",
      " 17%|█▋        | 1/6 [00:00<00:03,  1.27it/s]\u001b[A\n",
      " 33%|███▎      | 2/6 [00:01<00:03,  1.25it/s]\u001b[A\n",
      " 50%|█████     | 3/6 [00:02<00:02,  1.41it/s]\u001b[A\n",
      " 67%|██████▋   | 4/6 [00:02<00:01,  1.56it/s]\u001b[A\n",
      " 83%|████████▎ | 5/6 [00:03<00:00,  1.65it/s]\u001b[A\n",
      "100%|██████████| 6/6 [00:03<00:00,  1.57it/s]\u001b[A\n",
      " 53%|█████▎    | 8/15 [01:55<01:48, 15.52s/it]"
     ]
    },
    {
     "name": "stdout",
     "output_type": "stream",
     "text": [
      "Mean absolute error [horizon 8]: 1.590\n"
     ]
    },
    {
     "name": "stderr",
     "output_type": "stream",
     "text": [
      "\n",
      "  0%|          | 0/6 [00:00<?, ?it/s]\u001b[A\n",
      " 17%|█▋        | 1/6 [00:00<00:04,  1.02it/s]\u001b[A\n",
      " 33%|███▎      | 2/6 [00:01<00:02,  1.34it/s]\u001b[A\n",
      " 50%|█████     | 3/6 [00:02<00:02,  1.36it/s]\u001b[A\n",
      " 67%|██████▋   | 4/6 [00:02<00:01,  1.44it/s]\u001b[A\n",
      " 83%|████████▎ | 5/6 [00:03<00:00,  1.52it/s]\u001b[A\n",
      "100%|██████████| 6/6 [00:04<00:00,  1.42it/s]\u001b[A\n",
      " 60%|██████    | 9/15 [02:13<01:35, 15.99s/it]"
     ]
    },
    {
     "name": "stdout",
     "output_type": "stream",
     "text": [
      "Mean absolute error [horizon 9]: 1.593\n"
     ]
    },
    {
     "name": "stderr",
     "output_type": "stream",
     "text": [
      "\n",
      "  0%|          | 0/6 [00:00<?, ?it/s]\u001b[A\n",
      " 17%|█▋        | 1/6 [00:00<00:03,  1.25it/s]\u001b[A\n",
      " 33%|███▎      | 2/6 [00:01<00:02,  1.34it/s]\u001b[A\n",
      " 50%|█████     | 3/6 [00:02<00:02,  1.42it/s]\u001b[A\n",
      " 67%|██████▋   | 4/6 [00:03<00:01,  1.28it/s]\u001b[A\n",
      " 83%|████████▎ | 5/6 [00:04<00:00,  1.18it/s]\u001b[A\n",
      "100%|██████████| 6/6 [00:04<00:00,  1.24it/s]\u001b[A\n",
      " 67%|██████▋   | 10/15 [02:30<01:22, 16.53s/it]"
     ]
    },
    {
     "name": "stdout",
     "output_type": "stream",
     "text": [
      "Mean absolute error [horizon 10]: 1.594\n"
     ]
    },
    {
     "name": "stderr",
     "output_type": "stream",
     "text": [
      "\n",
      "  0%|          | 0/6 [00:00<?, ?it/s]\u001b[A\n",
      " 17%|█▋        | 1/6 [00:01<00:07,  1.49s/it]\u001b[A\n",
      " 33%|███▎      | 2/6 [00:02<00:05,  1.25s/it]\u001b[A\n",
      " 50%|█████     | 3/6 [00:03<00:03,  1.18s/it]\u001b[A\n",
      " 67%|██████▋   | 4/6 [00:04<00:02,  1.14s/it]\u001b[A\n",
      " 83%|████████▎ | 5/6 [00:05<00:01,  1.12s/it]\u001b[A\n",
      "100%|██████████| 6/6 [00:06<00:00,  1.15s/it]\u001b[A\n",
      " 73%|███████▎  | 11/15 [02:50<01:10, 17.60s/it]"
     ]
    },
    {
     "name": "stdout",
     "output_type": "stream",
     "text": [
      "Mean absolute error [horizon 15]: 1.597\n"
     ]
    },
    {
     "name": "stderr",
     "output_type": "stream",
     "text": [
      "\n",
      "  0%|          | 0/6 [00:00<?, ?it/s]\u001b[A\n",
      " 17%|█▋        | 1/6 [00:01<00:09,  1.91s/it]\u001b[A\n",
      " 33%|███▎      | 2/6 [00:03<00:06,  1.71s/it]\u001b[A\n",
      " 50%|█████     | 3/6 [00:05<00:04,  1.63s/it]\u001b[A\n",
      " 67%|██████▋   | 4/6 [00:06<00:03,  1.59s/it]\u001b[A\n",
      " 83%|████████▎ | 5/6 [00:08<00:01,  1.66s/it]\u001b[A\n",
      "100%|██████████| 6/6 [00:09<00:00,  1.66s/it]\u001b[A\n",
      " 80%|████████  | 12/15 [03:13<00:57, 19.21s/it]"
     ]
    },
    {
     "name": "stdout",
     "output_type": "stream",
     "text": [
      "Mean absolute error [horizon 20]: 1.599\n"
     ]
    },
    {
     "name": "stderr",
     "output_type": "stream",
     "text": [
      "\n",
      "  0%|          | 0/6 [00:00<?, ?it/s]\u001b[A\n",
      " 17%|█▋        | 1/6 [00:03<00:17,  3.58s/it]\u001b[A\n",
      " 33%|███▎      | 2/6 [00:06<00:12,  3.09s/it]\u001b[A\n",
      " 50%|█████     | 3/6 [00:08<00:08,  2.88s/it]\u001b[A\n",
      " 67%|██████▋   | 4/6 [00:11<00:05,  2.82s/it]\u001b[A\n",
      " 83%|████████▎ | 5/6 [00:14<00:02,  2.83s/it]\u001b[A\n",
      "100%|██████████| 6/6 [00:17<00:00,  2.89s/it]\u001b[A\n",
      " 87%|████████▋ | 13/15 [03:45<00:46, 23.01s/it]"
     ]
    },
    {
     "name": "stdout",
     "output_type": "stream",
     "text": [
      "Mean absolute error [horizon 30]: 1.554\n"
     ]
    },
    {
     "name": "stderr",
     "output_type": "stream",
     "text": [
      "\n",
      "  0%|          | 0/6 [00:00<?, ?it/s]\u001b[A\n",
      " 17%|█▋        | 1/6 [00:05<00:29,  5.89s/it]\u001b[A\n",
      " 33%|███▎      | 2/6 [00:11<00:22,  5.59s/it]\u001b[A\n",
      " 50%|█████     | 3/6 [00:16<00:15,  5.27s/it]\u001b[A\n",
      " 67%|██████▋   | 4/6 [00:20<00:09,  4.77s/it]\u001b[A\n",
      " 83%|████████▎ | 5/6 [00:24<00:04,  4.57s/it]\u001b[A\n",
      "100%|██████████| 6/6 [00:28<00:00,  4.74s/it]\u001b[A\n",
      " 93%|█████████▎| 14/15 [04:29<00:29, 29.38s/it]"
     ]
    },
    {
     "name": "stdout",
     "output_type": "stream",
     "text": [
      "Mean absolute error [horizon 40]: 1.558\n"
     ]
    },
    {
     "name": "stderr",
     "output_type": "stream",
     "text": [
      "\n",
      "  0%|          | 0/6 [00:00<?, ?it/s]\u001b[A\n",
      " 17%|█▋        | 1/6 [00:06<00:33,  6.66s/it]\u001b[A\n",
      " 33%|███▎      | 2/6 [00:14<00:29,  7.36s/it]\u001b[A\n",
      " 50%|█████     | 3/6 [00:21<00:21,  7.24s/it]\u001b[A\n",
      " 67%|██████▋   | 4/6 [00:27<00:13,  6.54s/it]\u001b[A\n",
      " 83%|████████▎ | 5/6 [00:32<00:06,  6.13s/it]\u001b[A\n",
      "100%|██████████| 6/6 [00:37<00:00,  6.32s/it]\u001b[A\n",
      "100%|██████████| 15/15 [05:23<00:00, 21.57s/it]"
     ]
    },
    {
     "name": "stdout",
     "output_type": "stream",
     "text": [
      "Mean absolute error [horizon 50]: 1.562\n"
     ]
    },
    {
     "name": "stderr",
     "output_type": "stream",
     "text": [
      "\n"
     ]
    }
   ],
   "source": [
    "MAE_L = []\n",
    "for h in tqdm(HORIZON):\n",
    "    x, xref, xH, xHref, error, errorH = read_residual_data(root, h)\n",
    "    x_test, xref_test, xH_test, xHref_test, error_test, errorH_test = read_residual_data(path, h)\n",
    "    RR_H.fit(xH-xHref, errorH, 4, verbose=False)\n",
    "    res_pred_RR = RR_H.predict(xH_test-xHref_test, RR_H.beta)\n",
    "    MAE = np.abs((errorH_test - res_pred_RR)).sum() / len(errorH_test)\n",
    "    MAE_L.append(MAE)\n",
    "    print(\"Mean absolute error [horizon {0}]: {1:.3f}\".format(h, MAE))"
   ]
  },
  {
   "cell_type": "code",
   "execution_count": 12,
   "metadata": {},
   "outputs": [
    {
     "data": {
      "image/png": "[encoded data removed]",
      "text/plain": [
       "<Figure size 432x288 with 1 Axes>"
      ]
     },
     "metadata": {
      "needs_background": "light"
     },
     "output_type": "display_data"
    }
   ],
   "source": [
    "import matplotlib.pyplot as plt\n",
    "plt.plot(HORIZON, MAE_L)\n",
    "plt.grid()\n",
    "plt.show()"
   ]
  },
  {
   "cell_type": "code",
   "execution_count": null,
   "metadata": {},
   "outputs": [],
   "source": [
    "best_horizon = 31"
   ]
  },
  {
   "cell_type": "code",
   "execution_count": null,
   "metadata": {},
   "outputs": [],
   "source": [
    "x, xref, xH, xHref, error, errorH = read_residual_data(root, best_horizon)\n",
    "x_test, xref_test, xH_test, xHref_test, error_test, errorH_test = read_residual_data(path, best_horizon)\n",
    "RR_H.fit(xH-xHref, errorH, 4, verbose=False)"
   ]
  },
  {
   "cell_type": "code",
   "execution_count": null,
   "metadata": {},
   "outputs": [],
   "source": [
    "res_pred_RR = RR_H.predict(xH_test-xHref_test, RR_H.beta)\n",
    "MAE = ((errorH_test - res_pred_RR)**2).sum() / len(errorH_test)\n",
    "print(\"Mean square error [horizon {0}]: {1:.3f}\".format(best_horizon, MAE))"
   ]
  },
  {
   "cell_type": "markdown",
   "metadata": {},
   "source": [
    "# explore the impact of error horizon"
   ]
  },
  {
   "cell_type": "code",
   "execution_count": null,
   "metadata": {},
   "outputs": [],
   "source": [
    "labd = np.logspace(-6,2,5)\n",
    "RR_H_F = CV_RR(labd)"
   ]
  },
  {
   "cell_type": "code",
   "execution_count": null,
   "metadata": {
    "scrolled": true
   },
   "outputs": [],
   "source": [
    "MAE_L = []\n",
    "for h in tqdm(HORIZON):\n",
    "    x, xref, xH, xHref, error, errorH, errorH_feature = read_residual_data(root, h, WithErrorTraj=True)\n",
    "    x_test, xref_test, xH_test, xHref_test, error_test, errorH_test, errorH_feature_test\\\n",
    "                                        = read_residual_data(path, h, WithErrorTraj=True)\n",
    "    print(np.concatenate([xH-xHref, errorH_feature], axis=1).shape)\n",
    "    RR_H_F.fit(np.concatenate([xH-xHref, errorH_feature], axis=1), errorH, 4, verbose=True)\n",
    "    res_pred_RR = RR_H_F.predict(np.concatenate([xH_test-xHref_test, errorH_feature_test], axis=1), RR_H_F.beta)\n",
    "    MAE = np.abs((errorH_test - res_pred_RR)).sum() / len(errorH_test)\n",
    "    MAE_L.append(MAE)\n",
    "    print(\"Mean absolute error [horizon {0}]: {1:.3f}\".format(h, MAE))"
   ]
  },
  {
   "cell_type": "code",
   "execution_count": null,
   "metadata": {},
   "outputs": [],
   "source": [
    "import matplotlib.pyplot as plt\n",
    "plt.plot(HORIZON, MAE_L)\n",
    "plt.grid()\n",
    "plt.show()"
   ]
  },
  {
   "cell_type": "code",
   "execution_count": null,
   "metadata": {},
   "outputs": [],
   "source": [
    "best_horizon = 26"
   ]
  },
  {
   "cell_type": "code",
   "execution_count": null,
   "metadata": {},
   "outputs": [],
   "source": [
    "x, xref, xH, xHref, error, errorH, errorH_feature = read_residual_data(root, best_horizon, WithErrorTraj=True)\n",
    "x_test, xref_test, xH_test, xHref_test, error_test, errorH_test, errorH_feature_test\\\n",
    "                                                = read_residual_data(path, best_horizon, WithErrorTraj=True)\n",
    "RR_H_F.fit(np.concatenate([xH-xHref, errorH_feature], axis=1), errorH, 4, verbose=False)"
   ]
  },
  {
   "cell_type": "code",
   "execution_count": null,
   "metadata": {},
   "outputs": [],
   "source": [
    "res_pred_RR = RR_H_F.predict(np.concatenate([xH_test-xHref_test, errorH_feature_test], axis=1), RR_H_F.beta)\n",
    "MAE = ((errorH_test - res_pred_RR)**2).sum() / len(errorH_test)\n",
    "print(\"Mean square error [horizon {0}]: {1:.3f}\".format(best_horizon, MAE))"
   ]
  },
  {
   "cell_type": "code",
   "execution_count": null,
   "metadata": {},
   "outputs": [],
   "source": []
  },
  {
   "cell_type": "code",
   "execution_count": null,
   "metadata": {},
   "outputs": [],
   "source": [
    "import matplotlib.pyplot as plt\n",
    "plt.figure(figsize=[14,20])\n",
    "for channel in range(7):\n",
    "    plt.subplot(4,2,channel+1,xlabel=\"0.001s\", ylabel=\"Torque of {}. joint[n/m]\".format(channel+1))\n",
    "    plt.grid()\n",
    "    plt.plot(error_test[:,channel], label='u_cmd + G - u_mea')\n",
    "    plt.plot(res_pred_RR[:,channel], label='residual_pred_RR')\n",
    "plt.subplots_adjust(left=None, bottom=None, right=None, top=None, wspace=None, hspace=0.3)    \n",
    "plt.legend(bbox_to_anchor=(1.5, 1),fancybox=True)\n",
    "\n",
    "plt.savefig('/home/jiayun/Desktop/residual.jpg', dpi=200)\n",
    "plt.show()"
   ]
  }
 ],
 "metadata": {
  "kernelspec": {
   "display_name": "Python 3",
   "language": "python",
   "name": "python3"
  },
  "language_info": {
   "codemirror_mode": {
    "name": "ipython",
    "version": 3
   },
   "file_extension": ".py",
   "mimetype": "text/x-python",
   "name": "python",
   "nbconvert_exporter": "python",
   "pygments_lexer": "ipython3",
   "version": "3.6.9"
  }
 },
 "nbformat": 4,
 "nbformat_minor": 4
}
