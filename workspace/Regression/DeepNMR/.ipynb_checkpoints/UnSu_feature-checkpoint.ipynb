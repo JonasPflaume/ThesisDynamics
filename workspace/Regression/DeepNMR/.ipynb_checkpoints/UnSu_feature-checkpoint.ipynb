{
 "cells": [
  {
   "cell_type": "code",
   "execution_count": 1,
   "metadata": {},
   "outputs": [],
   "source": [
    "from UnSu_feature import Encoder, build_dataset_RR, batch_generator\n",
    "## unsupervised feature ##\n",
    "import sys\n",
    "sys.path.append('..')\n",
    "sys.path.append('../..')\n",
    "from Common.Dataset_generator import DatasetsNMResidualBlockToOne\n",
    "import torch\n",
    "import torch.optim as optim\n",
    "import torch.nn as nn\n",
    "import torch.nn.functional as F\n",
    "import numpy as np\n",
    "\n",
    "device = torch.device('cuda' if torch.cuda.is_available() else 'cpu')\n",
    "Loss = nn.MSELoss()"
   ]
  },
  {
   "cell_type": "code",
   "execution_count": 2,
   "metadata": {},
   "outputs": [],
   "source": [
    "horizon = 62\n",
    "epoch = 200\n",
    "batch_size = 64"
   ]
  },
  {
   "cell_type": "code",
   "execution_count": 3,
   "metadata": {},
   "outputs": [
    {
     "name": "stdout",
     "output_type": "stream",
     "text": [
      "Embedding dimension:  217\n",
      "<Common.Dataset_generator.DatasetsNMResidualBlockToOne object at 0x7f71302fc5c0> : no mean-var initialization!\n"
     ]
    }
   ],
   "source": [
    "net = Encoder(horizon, 2, batch_size).to(device)\n",
    "optimizer = optim.Adam(net.parameters(), lr=1e-4)\n",
    "\n",
    "D = DatasetsNMResidualBlockToOne('../../data/trajectories', horizon, False, False, subsample=1, filter=False)\n",
    "# path:str, horizon:int, overlapping:bool, shuffle_dataset:bool, subsample: sampling gap, filter: smoothness"
   ]
  },
  {
   "cell_type": "code",
   "execution_count": null,
   "metadata": {},
   "outputs": [
    {
     "name": "stdout",
     "output_type": "stream",
     "text": [
      "Loss:  1874.755908750274\n",
      "Loss:  1711.6222645636444\n",
      "Loss:  1626.3152010039485\n",
      "Loss:  1550.96534699318\n",
      "Loss:  1487.4335896265984\n",
      "Loss:  1449.84918447565\n",
      "Loss:  1427.882852458686\n",
      "Loss:  1401.2963457631413\n",
      "Loss:  1372.8136721751252\n",
      "Loss:  1369.7621649244902\n",
      "Loss:  1349.1965055810979\n",
      "Loss:  1345.2335401303244\n",
      "Loss:  1332.3371442557436\n",
      "Loss:  1325.7276671147192\n",
      "Loss:  1325.1353032511324\n",
      "Loss:  1313.8734246611566\n",
      "Loss:  1312.0473103991717\n",
      "Loss:  1305.9398168376392\n",
      "Loss:  1295.7810545334687\n",
      "Loss:  1300.2197080704136\n",
      "Loss:  1281.6798733699761\n",
      "Loss:  1274.0591681799415\n",
      "Loss:  1279.237739582768\n",
      "Loss:  1287.6513223593684\n",
      "Loss:  1284.1931077196423\n",
      "Loss:  1273.5641972322228\n",
      "Loss:  1280.790027082261\n",
      "Loss:  1274.3904712333715\n"
     ]
    }
   ],
   "source": [
    "Ytrain, Xtrain_noExpand = build_dataset_RR(D, horizon)\n",
    "input_feature = Xtrain_noExpand.shape[1]\n",
    "for _ in range(epoch):\n",
    "    Ls = 0\n",
    "    for x in batch_generator(Xtrain_noExpand, batch_size):\n",
    "        pred = net(x)\n",
    "        optimizer.zero_grad()\n",
    "        L = Loss(pred, x)\n",
    "        Ls += L.item()\n",
    "        L.backward()\n",
    "        optimizer.step()\n",
    "\n",
    "    print(\"Loss: \", Ls)"
   ]
  },
  {
   "cell_type": "code",
   "execution_count": 38,
   "metadata": {},
   "outputs": [],
   "source": [
    "for idx, (name, param) in enumerate(net.named_parameters()):\n",
    "    if idx==0:\n",
    "        np.savetxt('W1.txt', param.detach().cpu().numpy())\n",
    "    if idx==1:\n",
    "        np.savetxt('b1.txt', param.detach().cpu().numpy())\n",
    "    if idx==2:\n",
    "        np.savetxt('W2.txt', param.detach().cpu().numpy())\n",
    "    if idx==3:\n",
    "        np.savetxt('b2.txt', param.detach().cpu().numpy())"
   ]
  }
 ],
 "metadata": {
  "kernelspec": {
   "display_name": "Python 3",
   "language": "python",
   "name": "python3"
  },
  "language_info": {
   "codemirror_mode": {
    "name": "ipython",
    "version": 3
   },
   "file_extension": ".py",
   "mimetype": "text/x-python",
   "name": "python",
   "nbconvert_exporter": "python",
   "pygments_lexer": "ipython3",
   "version": "3.6.9"
  }
 },
 "nbformat": 4,
 "nbformat_minor": 4
}
