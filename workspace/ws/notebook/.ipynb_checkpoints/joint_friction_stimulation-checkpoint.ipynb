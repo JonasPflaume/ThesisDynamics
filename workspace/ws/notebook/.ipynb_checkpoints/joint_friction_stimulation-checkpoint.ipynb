{
 "cells": [
  {
   "cell_type": "code",
   "execution_count": 1,
   "metadata": {},
   "outputs": [
    {
     "name": "stdout",
     "output_type": "stream",
     "text": [
      "3.6.9 (default, Jan 26 2021, 15:33:00) \n",
      "[GCC 8.4.0]\n",
      "**ry-c++-log** /home/jiayun/git/botop/rai/rai/ry/ry.cpp:init_LogToPythonConsole:34(0) initializing ry log callback\n",
      "\n"
     ]
    }
   ],
   "source": [
    "import sys\n",
    "sys.path.append('../../../botop/build')\n",
    "print(sys.version)\n",
    "import numpy as np\n",
    "import libry as ry\n",
    "import libpybot as pybot\n",
    "import time\n",
    "import matplotlib.pyplot as plt"
   ]
  },
  {
   "cell_type": "code",
   "execution_count": 2,
   "metadata": {},
   "outputs": [],
   "source": [
    "C = ry.Config()\n",
    "C.view()\n",
    "C.addFile(\"../../../botop/rai-robotModels/scenarios/pandaSingle.g\")"
   ]
  },
  {
   "cell_type": "code",
   "execution_count": 3,
   "metadata": {},
   "outputs": [],
   "source": [
    "bot = pybot.BotOp(C, False)"
   ]
  },
  {
   "cell_type": "code",
   "execution_count": 4,
   "metadata": {},
   "outputs": [],
   "source": [
    "bot.home(C)"
   ]
  },
  {
   "cell_type": "code",
   "execution_count": 4,
   "metadata": {},
   "outputs": [],
   "source": [
    "jointID = 6"
   ]
  },
  {
   "cell_type": "code",
   "execution_count": 19,
   "metadata": {},
   "outputs": [],
   "source": [
    "def plot_viapoint(viapoint):\n",
    "    print('Viapoints', *viapoint, sep=':')\n",
    "    plt.figure(figsize=(8, 5))\n",
    "    plt.plot(np.arange(len(viapoint)), viapoint, 'rx', label='via point')\n",
    "    plt.grid()\n",
    "    plt.xlabel(\"sequence of via point\")\n",
    "    plt.ylabel(\"joint degree [rad]\")\n",
    "    plt.legend()\n",
    "    plt.savefig(\"/home/jiayun/Desktop/via_points.jpg\", dpi=200)\n",
    "    plt.show()\n",
    "    \n",
    "def generateViaPoint(q_min, q_max):\n",
    "    '''\n",
    "    y = t + A*sin(theta + alpha*t) + bias\n",
    "    y0 = A*sin(theta) + bias\n",
    "    yend = Direct cut-off\n",
    "    '''\n",
    "    t = np.linspace(0,10,1000)\n",
    "    A = 0.8\n",
    "    theta = 0\n",
    "    alpha = 5\n",
    "    bias = q_min\n",
    "    y = t + A*np.sin(theta + alpha*t) + bias\n",
    "    indicator = y < q_max\n",
    "    indicator = [i for i, x in enumerate(indicator) if not x]\n",
    "    y = y[:indicator[0]]\n",
    "    point = []\n",
    "    for idx, it in enumerate(y):\n",
    "        if idx == 0:\n",
    "            point.append(it)\n",
    "        elif idx != len(y)-1:\n",
    "            isCriticalPoint = (it > y[idx-1] and it > y[idx+1]) or (it < y[idx-1] and it < y[idx+1])\n",
    "            point.append(y[idx]) if isCriticalPoint else _\n",
    "        else:\n",
    "            point.append(it)\n",
    "    return point"
   ]
  },
  {
   "cell_type": "code",
   "execution_count": 20,
   "metadata": {},
   "outputs": [
    {
     "name": "stdout",
     "output_type": "stream",
     "text": [
      "Viapoints:-2.8100335374002836:-1.6709238353092286:-2.692677774167917:-0.414105300288107:-1.4359275799680686:0.8422993238769956:-0.17938255660409563:2.099167471649626:1.077299362190551:2.782182392854834\n"
     ]
    },
    {
     "data": {
      "image/png": "[encoded data removed]",
      "text/plain": [
       "<Figure size 576x360 with 1 Axes>"
      ]
     },
     "metadata": {
      "needs_background": "light"
     },
     "output_type": "display_data"
    }
   ],
   "source": [
    "q_min = [-2.8973, -1.7628, -2.8973, -3.0718, -2.8973, 0.1, -2.8973]\n",
    "q_max = [ 2.8973, 1.7628, 2.8973, -0.0698, 2.8973, 3.7525, 2.8973]\n",
    "\n",
    "for i in range(0,7):\n",
    "    exec('viapoint_q{} = generateViaPoint(q_min[{}] + np.radians(5), q_max[{}] - np.radians(5))'.\\\n",
    "         format(i, i, i))\n",
    "\n",
    "plot_viapoint(viapoint_q0)"
   ]
  },
  {
   "cell_type": "code",
   "execution_count": 8,
   "metadata": {},
   "outputs": [],
   "source": [
    "def joint_selection(k):\n",
    "    q = bot.get_q()[np.newaxis, :]\n",
    "    q = np.tile(q, (len(eval(\"viapoint_q\" + str(k))), 1))\n",
    "    q[:,k] = eval(\"viapoint_q\" + str(k))\n",
    "    return q"
   ]
  },
  {
   "cell_type": "code",
   "execution_count": 9,
   "metadata": {},
   "outputs": [],
   "source": [
    "## preposition it\n",
    "bot.home(C)\n",
    "\n",
    "if jointID==1:\n",
    "    q = bot.get_qHome()\n",
    "    q[2] = 1.5\n",
    "    bot.moveLeap(q, 1)\n",
    "\n",
    "    while bot.getTimeToEnd()>0:\n",
    "        bot.step(C, .1)\n",
    "        time.sleep(.1)"
   ]
  },
  {
   "cell_type": "code",
   "execution_count": 10,
   "metadata": {},
   "outputs": [
    {
     "name": "stdout",
     "output_type": "stream",
     "text": [
      "[ 2  3  4  5  6  7  8  9 10 11]\n",
      "CPU times: user 3.13 s, sys: 957 ms, total: 4.08 s\n",
      "Wall time: 11.2 s\n"
     ]
    }
   ],
   "source": [
    "%%time\n",
    "\n",
    "#bot.home(C)\n",
    "q = joint_selection(jointID)\n",
    "timing = 1*np.arange(0, q.shape[0])+2  # where to change the time -> velocity\n",
    "print(timing)\n",
    "\n",
    "bot.setControllerWriteData(2)\n",
    "bot.move(q, timing)\n",
    "#for q_t in q:\n",
    "#    bot.move(q_t.reshape(1,7), [10])\n",
    "#bot.moveAutoTimed(q, 1)\n",
    "\n",
    "while bot.getTimeToEnd()>0:\n",
    "    bot.step(C, .1)\n",
    "    time.sleep(.1)"
   ]
  },
  {
   "cell_type": "code",
   "execution_count": 11,
   "metadata": {},
   "outputs": [],
   "source": [
    "bot.setControllerWriteData(0)\n",
    "bot.home(C)"
   ]
  },
  {
   "cell_type": "code",
   "execution_count": 12,
   "metadata": {},
   "outputs": [],
   "source": [
    "bot = 0"
   ]
  },
  {
   "cell_type": "code",
   "execution_count": 13,
   "metadata": {},
   "outputs": [],
   "source": [
    "C.view_close()"
   ]
  },
  {
   "cell_type": "code",
   "execution_count": 14,
   "metadata": {},
   "outputs": [],
   "source": [
    "C = 0"
   ]
  }
 ],
 "metadata": {
  "kernelspec": {
   "display_name": "Python 3",
   "language": "python",
   "name": "python3"
  },
  "language_info": {
   "codemirror_mode": {
    "name": "ipython",
    "version": 3
   },
   "file_extension": ".py",
   "mimetype": "text/x-python",
   "name": "python",
   "nbconvert_exporter": "python",
   "pygments_lexer": "ipython3",
   "version": "3.6.9"
  }
 },
 "nbformat": 4,
 "nbformat_minor": 5
}
