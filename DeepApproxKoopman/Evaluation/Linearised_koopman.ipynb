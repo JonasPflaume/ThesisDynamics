{
 "cells": [
  {
   "cell_type": "markdown",
   "metadata": {},
   "source": [
    "### Linearised Koopman based on least square solution"
   ]
  },
  {
   "cell_type": "code",
   "execution_count": 932,
   "metadata": {},
   "outputs": [],
   "source": [
    "import numpy as np\n",
    "import matplotlib.pyplot as plt\n",
    "import sys\n",
    "sys.path.append('..')\n",
    "from GymEnvGenerator import RecordTrajGenerator"
   ]
  },
  {
   "cell_type": "code",
   "execution_count": 933,
   "metadata": {},
   "outputs": [],
   "source": [
    "traj_num = 50\n",
    "RTG = RecordTrajGenerator(200, traj_num)\n",
    "sample_traj = next(RTG)\n",
    "x = []\n",
    "y = []\n",
    "u = []\n",
    "traj = sample_traj[0].numpy()\n",
    "act = sample_traj[1].numpy()\n",
    "for i in range(traj_num):\n",
    "    t_ = traj[i]\n",
    "    u_ = act[i]\n",
    "    x.append(t_[:-1,:])\n",
    "    y.append(t_[1:,:])\n",
    "    u.append(u_[:-1,:])\n",
    "    \n",
    "X = np.array(x).reshape(3,-1)\n",
    "Y = np.array(y).reshape(3,-1)\n",
    "U = np.array(u).reshape(1,-1)"
   ]
  },
  {
   "cell_type": "code",
   "execution_count": 934,
   "metadata": {},
   "outputs": [
    {
     "data": {
      "text/plain": [
       "(3, 9950)"
      ]
     },
     "execution_count": 934,
     "metadata": {},
     "output_type": "execute_result"
    }
   ],
   "source": [
    "X.shape"
   ]
  },
  {
   "cell_type": "markdown",
   "metadata": {},
   "source": [
    "### Feature transformation"
   ]
  },
  {
   "cell_type": "code",
   "execution_count": 935,
   "metadata": {},
   "outputs": [],
   "source": [
    "import casadi"
   ]
  },
  {
   "cell_type": "code",
   "execution_count": 997,
   "metadata": {},
   "outputs": [],
   "source": [
    "x = casadi.SX.sym('x', 4, 1)\n",
    "fea = x\n",
    "for i in np.linspace(0.1,2*np.pi,5):\n",
    "    cos_f = casadi.cos(i * x)\n",
    "    sin_f = casadi.sin(i * x)\n",
    "    fea = casadi.vertcat(fea, cos_f)\n",
    "    fea = casadi.vertcat(fea, sin_f)\n",
    "    \n",
    "for i in range(4):\n",
    "    for j in range(4):\n",
    "        poly = x[i] * x[j]\n",
    "        fea = casadi.vertcat(fea, poly)"
   ]
  },
  {
   "cell_type": "code",
   "execution_count": 998,
   "metadata": {},
   "outputs": [],
   "source": [
    "diff_x = casadi.jacobian(fea, x[0:3])\n",
    "diff_u = casadi.jacobian(fea, x[3])\n",
    "\n",
    "diff_x_f = casadi.Function('diff_f', [x], [diff_x])\n",
    "diff_u_f = casadi.Function('diff_f', [x], [diff_u])\n",
    "fea_f = casadi.Function('diff_f', [x], [fea])"
   ]
  },
  {
   "cell_type": "markdown",
   "metadata": {},
   "source": [
    "## Linear Koopman"
   ]
  },
  {
   "cell_type": "code",
   "execution_count": 999,
   "metadata": {},
   "outputs": [],
   "source": [
    "G = 0\n",
    "A = 0\n",
    "f_X = []\n",
    "for i in range(X.shape[1]-1):\n",
    "    feature_0 = fea_f(np.concatenate([X[:, i], U[:, i]])).full()\n",
    "    feature_1 = fea_f(np.concatenate([X[:, i+1], U[:, i+1]])).full()\n",
    "    G += feature_0 @ feature_0.T\n",
    "    A += feature_0 @ feature_1.T\n",
    "G *= 1/X.shape[1]\n",
    "A *= 1/X.shape[1]"
   ]
  },
  {
   "cell_type": "code",
   "execution_count": 1000,
   "metadata": {},
   "outputs": [],
   "source": [
    "K = np.linalg.pinv(G) @ A"
   ]
  },
  {
   "cell_type": "code",
   "execution_count": 1001,
   "metadata": {},
   "outputs": [
    {
     "data": {
      "text/plain": [
       "(60, 60)"
      ]
     },
     "execution_count": 1001,
     "metadata": {},
     "output_type": "execute_result"
    }
   ],
   "source": [
    "K.shape"
   ]
  },
  {
   "cell_type": "code",
   "execution_count": 1017,
   "metadata": {},
   "outputs": [],
   "source": [
    "A_sym = K[:,:3].T @ diff_x\n",
    "B_sym = K[:,:3].T @ diff_u\n",
    "\n",
    "A_func = casadi.Function('A', [x], [A_sym])\n",
    "B_func = casadi.Function('B', [x], [B_sym])"
   ]
  },
  {
   "cell_type": "markdown",
   "metadata": {},
   "source": [
    "### validating"
   ]
  },
  {
   "cell_type": "code",
   "execution_count": 1018,
   "metadata": {},
   "outputs": [
    {
     "data": {
      "text/plain": [
       "(200, 3)"
      ]
     },
     "execution_count": 1018,
     "metadata": {},
     "output_type": "execute_result"
    }
   ],
   "source": [
    "test_traj = next(RTG)\n",
    "traj = test_traj[0].numpy()\n",
    "act = test_traj[1].numpy()\n",
    "test_x = traj[0]\n",
    "test_u = act[0]\n",
    "test_x.shape"
   ]
  },
  {
   "cell_type": "code",
   "execution_count": 1020,
   "metadata": {},
   "outputs": [
    {
     "name": "stderr",
     "output_type": "stream",
     "text": [
      "/home/jiayun/.local/lib/python3.6/site-packages/ipykernel_launcher.py:11: RuntimeWarning: overflow encountered in matmul\n",
      "  # This is added back by InteractiveShellApp.init_path()\n"
     ]
    }
   ],
   "source": [
    "x0 = test_x[0:1,:].T\n",
    "res = []\n",
    "for i in range(200):\n",
    "    ut = test_u[i,:].reshape(-1,1)\n",
    "    x_sym = np.concatenate([x0, ut])\n",
    "    res.append(x0)\n",
    "    \n",
    "    A_ = A_func(x_sym).full()\n",
    "    B_ = B_func(x_sym).full()\n",
    "    \n",
    "    x0 = A_ @ x0 +  B_ @ ut"
   ]
  },
  {
   "cell_type": "code",
   "execution_count": 1021,
   "metadata": {},
   "outputs": [],
   "source": [
    "res = np.array(res)"
   ]
  },
  {
   "cell_type": "code",
   "execution_count": 1022,
   "metadata": {},
   "outputs": [],
   "source": [
    "res = res.squeeze()"
   ]
  },
  {
   "cell_type": "code",
   "execution_count": 1023,
   "metadata": {},
   "outputs": [
    {
     "data": {
      "image/png": "[encoded data removed]",
      "text/plain": [
       "<Figure size 432x288 with 1 Axes>"
      ]
     },
     "metadata": {
      "needs_background": "light"
     },
     "output_type": "display_data"
    },
    {
     "name": "stdout",
     "output_type": "stream",
     "text": [
      "L2 loss: nan\n"
     ]
    }
   ],
   "source": [
    "plt.plot(res[:,1], '-r')\n",
    "plt.plot(test_x[:,1])\n",
    "plt.show()\n",
    "Loss = np.linalg.norm(test_x-res)\n",
    "print(\"L2 loss: {}\".format(Loss))"
   ]
  }
 ],
 "metadata": {
  "kernelspec": {
   "display_name": "Python 3",
   "language": "python",
   "name": "python3"
  },
  "language_info": {
   "codemirror_mode": {
    "name": "ipython",
    "version": 3
   },
   "file_extension": ".py",
   "mimetype": "text/x-python",
   "name": "python",
   "nbconvert_exporter": "python",
   "pygments_lexer": "ipython3",
   "version": "3.6.9"
  }
 },
 "nbformat": 4,
 "nbformat_minor": 4
}
